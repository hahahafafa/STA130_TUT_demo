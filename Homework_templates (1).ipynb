{
 "cells": [
  {
   "cell_type": "markdown",
   "id": "2ff9aa37-ae54-4e3a-83d3-c839015b9b1b",
   "metadata": {},
   "source": [
    "# Example HW templates"
   ]
  },
  {
   "cell_type": "markdown",
   "id": "27711c87-338f-4617-b8dd-63788cdf0e2c",
   "metadata": {},
   "source": [
    "## Question 1 "
   ]
  },
  {
   "cell_type": "markdown",
   "id": "3dd17666-3484-49e0-9c8d-5eac232c27f5",
   "metadata": {},
   "source": [
    "question 1: print out \"code for question 1\", and answer in text "
   ]
  },
  {
   "cell_type": "code",
   "execution_count": 1,
   "id": "6991e32c-ddb8-4f2f-97c9-6bb1bd3c913f",
   "metadata": {},
   "outputs": [
    {
     "name": "stdout",
     "output_type": "stream",
     "text": [
      "code for question 1\n"
     ]
    }
   ],
   "source": [
    "print(\"code for question 1\")\n",
    "# comment explaining your code"
   ]
  },
  {
   "cell_type": "markdown",
   "id": "46776630-64d7-495a-a581-13552d0f448c",
   "metadata": {},
   "source": [
    "**Answer**:\n",
    "my written answer is:\n",
    "1. answer for Q1\n",
    "2. answer for Q1\n",
    "   1. answer for Q1\n",
    "   2. answer for Q1\n"
   ]
  }
 ],
 "metadata": {
  "kernelspec": {
   "display_name": "Python 3 (ipykernel)",
   "language": "python",
   "name": "python3"
  },
  "language_info": {
   "codemirror_mode": {
    "name": "ipython",
    "version": 3
   },
   "file_extension": ".py",
   "mimetype": "text/x-python",
   "name": "python",
   "nbconvert_exporter": "python",
   "pygments_lexer": "ipython3",
   "version": "3.11.6"
  }
 },
 "nbformat": 4,
 "nbformat_minor": 5
}
