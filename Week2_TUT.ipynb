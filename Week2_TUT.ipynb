{
 "cells": [
  {
   "cell_type": "code",
   "execution_count": null,
   "metadata": {},
   "outputs": [],
   "source": []
  },
  {
   "cell_type": "markdown",
   "metadata": {},
   "source": [
    "1. **Immutable and Mutable Lists vs Key-Value Pairs:**\n",
    "- **`tuple()`**: An immutable ordered collection. Once created, its elements cannot be changed.\n",
    "- **`list()`**: A mutable ordered collection. You can add, remove, or modify elements.\n",
    "- **`dict()`**: A mutable collection of key-value pairs."
   ]
  },
  {
   "cell_type": "code",
   "execution_count": null,
   "metadata": {},
   "outputs": [],
   "source": [
    "# Tuple (immutable)\n",
    "my_tuple = (1, 2, 3)\n",
    "# my_tuple[0] = 4  # This would raise an error because tuples are immutable\n",
    "\n",
    "# List (mutable)\n",
    "my_list = [1, 2, 3]\n",
    "my_list[0] = 4  # You can modify elements in a list\n",
    "print(my_list)  # Output: [4, 2, 3]\n",
    "\n",
    "# Dictionary (key-value pairs)\n",
    "my_dict = {'name': 'Alice', 'age': 25}\n",
    "my_dict['age'] = 26  # You can modify values in a dictionary\n",
    "print(my_dict)  # Output: {'name': 'Alice', 'age': 26}\n"
   ]
  },
  {
   "cell_type": "markdown",
   "metadata": {},
   "source": [
    "#### 2. **NumPy Functions:**\n",
    "- **`np.array()`**: Creates a fast, efficient array (faster than a list).\n",
    "- **`np.random.choice()`**: Selects a random element from a given list or array."
   ]
  },
  {
   "cell_type": "code",
   "execution_count": null,
   "metadata": {},
   "outputs": [],
   "source": [
    "import numpy as np\n",
    "\n",
    "# Create a NumPy array (faster than list)\n",
    "my_array = np.array([1, 2, 3])\n",
    "print(my_array)  # Output: [1 2 3]\n",
    "\n",
    "# Random choice from a list\n",
    "random_choice = np.random.choice([1, 2, 3])\n",
    "print(random_choice)  # Output: A random number from the list, e.g., 2\n"
   ]
  },
  {
   "cell_type": "markdown",
   "metadata": {},
   "source": [
    "#### 3. **For Loops in Python:**\n",
    "Various types of loops are useful for iterating over collections and sequences."
   ]
  },
  {
   "cell_type": "code",
   "execution_count": null,
   "metadata": {},
   "outputs": [],
   "source": [
    "# Basic for loop\n",
    "n = 5\n",
    "for i in range(n):\n",
    "    print(i)  # Output: 0 1 2 3 4\n",
    "\n",
    "# For loop over a list\n",
    "a_list = [10, 20, 30]\n",
    "for x in a_list:\n",
    "    print(x)  # Output: 10 20 30\n",
    "\n",
    "# For loop with enumerate to get index and value\n",
    "for i, x in enumerate(a_list):\n",
    "    print(f\"Index: {i}, Value: {x}\")\n",
    "    # Output:\n",
    "    # Index: 0, Value: 10\n",
    "    # Index: 1, Value: 20\n",
    "    # Index: 2, Value: 30\n"
   ]
  },
  {
   "cell_type": "markdown",
   "metadata": {},
   "source": [
    "#### 4. **Variable as Last Line in a Code Cell (Notebook-Specific Behavior):**\n",
    "In Jupyter Notebooks, the last line of a code cell will automatically display the value without needing `print()`."
   ]
  },
  {
   "cell_type": "code",
   "execution_count": null,
   "metadata": {},
   "outputs": [],
   "source": [
    "# This will display the value of `x` when run in a Jupyter cell\n",
    "x = 10\n",
    "x  # Output: 10 (without using print())\n"
   ]
  },
  {
   "cell_type": "markdown",
   "metadata": {},
   "source": [
    "#### 5. **If/Else Conditional Statements:**\n",
    "Conditionals help you make decisions in code."
   ]
  },
  {
   "cell_type": "code",
   "execution_count": null,
   "metadata": {},
   "outputs": [],
   "source": [
    "# Simple if-else statement\n",
    "x = 5\n",
    "if x % 2 == 0:\n",
    "    print(\"Even\")\n",
    "else:\n",
    "    print(\"Odd\")  # Output: Odd (since 5 is odd)\n"
   ]
  },
  {
   "cell_type": "markdown",
   "metadata": {},
   "source": [
    "### Monty Hall Code Snippet:"
   ]
  },
  {
   "cell_type": "code",
   "execution_count": null,
   "metadata": {},
   "outputs": [],
   "source": [
    "import numpy as np\n",
    "\n",
    "all_door_options = (1, 2, 3)  # Tuple: doors 1, 2, 3\n",
    "my_door_choice = 1            # Player chooses door 1\n",
    "i_won = 0                     # Initialize win count\n",
    "reps = 100000                 # Run simulation for 100,000 repetitions\n",
    "\n",
    "for i in range(reps):\n",
    "    secret_winning_door = np.random.choice(all_door_options)\n",
    "    all_door_options_list = list(all_door_options)  # Convert tuple to list\n",
    "    all_door_options_list.remove(secret_winning_door)\n",
    "    \n",
    "    try:\n",
    "        all_door_options_list.remove(my_door_choice)\n",
    "    except:\n",
    "        pass  # If my_door_choice is the winning door, it will be already removed\n",
    "    \n",
    "    goat_door_reveal = np.random.choice(all_door_options_list)\n",
    "    all_door_options_list.remove(goat_door_reveal)\n",
    "    \n",
    "    if secret_winning_door != my_door_choice:\n",
    "        all_door_options_list.append(secret_winning_door)\n",
    "    \n",
    "    my_door_choice = all_door_options_list[0]  # Swap to the remaining door\n",
    "\n",
    "    if my_door_choice == secret_winning_door:\n",
    "        i_won += 1  # Increment win count if swap wins\n",
    "\n",
    "# Probability of winning by switching\n",
    "win_probability = i_won / reps\n",
    "print(f\"Winning Probability: {win_probability}\")\n"
   ]
  }
 ],
 "metadata": {
  "language_info": {
   "name": "python"
  }
 },
 "nbformat": 4,
 "nbformat_minor": 2
}
